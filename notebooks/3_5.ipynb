{
 "cells": [
  {
   "cell_type": "markdown",
   "metadata": {},
   "source": [
    "# PART5 相関関係を調べてみよう"
   ]
  },
  {
   "cell_type": "markdown",
   "metadata": {},
   "source": [
    "## インポート"
   ]
  },
  {
   "cell_type": "code",
   "execution_count": 1,
   "metadata": {
    "collapsed": true
   },
   "outputs": [],
   "source": [
    "import pandas as pd\n",
    "import numpy as np\n",
    "from matplotlib import pyplot as plt\n",
    "%matplotlib inline"
   ]
  },
  {
   "cell_type": "markdown",
   "metadata": {},
   "source": [
    "## データの読み込み\n",
    "- train.csvを読み込みましょう\n",
    "- 読み込んだものは変数trainに代入しましょう"
   ]
  },
  {
   "cell_type": "code",
   "execution_count": 2,
   "metadata": {
    "collapsed": true
   },
   "outputs": [],
   "source": [
    "train = pd.read_csv(\"../data/train.csv\")"
   ]
  },
  {
   "cell_type": "markdown",
   "metadata": {},
   "source": [
    "## trainの先頭行を確認してみましょう"
   ]
  },
  {
   "cell_type": "code",
   "execution_count": 3,
   "metadata": {},
   "outputs": [
    {
     "data": {
      "text/html": [
       "<div>\n",
       "<style>\n",
       "    .dataframe thead tr:only-child th {\n",
       "        text-align: right;\n",
       "    }\n",
       "\n",
       "    .dataframe thead th {\n",
       "        text-align: left;\n",
       "    }\n",
       "\n",
       "    .dataframe tbody tr th {\n",
       "        vertical-align: top;\n",
       "    }\n",
       "</style>\n",
       "<table border=\"1\" class=\"dataframe\">\n",
       "  <thead>\n",
       "    <tr style=\"text-align: right;\">\n",
       "      <th></th>\n",
       "      <th>datetime</th>\n",
       "      <th>y</th>\n",
       "      <th>week</th>\n",
       "      <th>soldout</th>\n",
       "      <th>name</th>\n",
       "      <th>kcal</th>\n",
       "      <th>remarks</th>\n",
       "      <th>event</th>\n",
       "      <th>payday</th>\n",
       "      <th>weather</th>\n",
       "      <th>precipitation</th>\n",
       "      <th>temperature</th>\n",
       "    </tr>\n",
       "  </thead>\n",
       "  <tbody>\n",
       "    <tr>\n",
       "      <th>0</th>\n",
       "      <td>2013-11-18</td>\n",
       "      <td>90</td>\n",
       "      <td>月</td>\n",
       "      <td>0</td>\n",
       "      <td>厚切りイカフライ</td>\n",
       "      <td>NaN</td>\n",
       "      <td>NaN</td>\n",
       "      <td>NaN</td>\n",
       "      <td>NaN</td>\n",
       "      <td>快晴</td>\n",
       "      <td>--</td>\n",
       "      <td>19.8</td>\n",
       "    </tr>\n",
       "    <tr>\n",
       "      <th>1</th>\n",
       "      <td>2013-11-19</td>\n",
       "      <td>101</td>\n",
       "      <td>火</td>\n",
       "      <td>1</td>\n",
       "      <td>手作りヒレカツ</td>\n",
       "      <td>NaN</td>\n",
       "      <td>NaN</td>\n",
       "      <td>NaN</td>\n",
       "      <td>NaN</td>\n",
       "      <td>快晴</td>\n",
       "      <td>--</td>\n",
       "      <td>17.0</td>\n",
       "    </tr>\n",
       "    <tr>\n",
       "      <th>2</th>\n",
       "      <td>2013-11-20</td>\n",
       "      <td>118</td>\n",
       "      <td>水</td>\n",
       "      <td>0</td>\n",
       "      <td>白身魚唐揚げ野菜あん</td>\n",
       "      <td>NaN</td>\n",
       "      <td>NaN</td>\n",
       "      <td>NaN</td>\n",
       "      <td>NaN</td>\n",
       "      <td>快晴</td>\n",
       "      <td>--</td>\n",
       "      <td>15.5</td>\n",
       "    </tr>\n",
       "    <tr>\n",
       "      <th>3</th>\n",
       "      <td>2013-11-21</td>\n",
       "      <td>120</td>\n",
       "      <td>木</td>\n",
       "      <td>1</td>\n",
       "      <td>若鶏ピリ辛焼</td>\n",
       "      <td>NaN</td>\n",
       "      <td>NaN</td>\n",
       "      <td>NaN</td>\n",
       "      <td>NaN</td>\n",
       "      <td>快晴</td>\n",
       "      <td>--</td>\n",
       "      <td>15.2</td>\n",
       "    </tr>\n",
       "    <tr>\n",
       "      <th>4</th>\n",
       "      <td>2013-11-22</td>\n",
       "      <td>130</td>\n",
       "      <td>金</td>\n",
       "      <td>1</td>\n",
       "      <td>ビッグメンチカツ</td>\n",
       "      <td>NaN</td>\n",
       "      <td>NaN</td>\n",
       "      <td>NaN</td>\n",
       "      <td>NaN</td>\n",
       "      <td>快晴</td>\n",
       "      <td>--</td>\n",
       "      <td>16.1</td>\n",
       "    </tr>\n",
       "  </tbody>\n",
       "</table>\n",
       "</div>"
      ],
      "text/plain": [
       "     datetime    y week  soldout        name  kcal remarks event  payday  \\\n",
       "0  2013-11-18   90    月        0    厚切りイカフライ   NaN     NaN   NaN     NaN   \n",
       "1  2013-11-19  101    火        1     手作りヒレカツ   NaN     NaN   NaN     NaN   \n",
       "2  2013-11-20  118    水        0  白身魚唐揚げ野菜あん   NaN     NaN   NaN     NaN   \n",
       "3  2013-11-21  120    木        1      若鶏ピリ辛焼   NaN     NaN   NaN     NaN   \n",
       "4  2013-11-22  130    金        1    ビッグメンチカツ   NaN     NaN   NaN     NaN   \n",
       "\n",
       "  weather precipitation  temperature  \n",
       "0      快晴            --         19.8  \n",
       "1      快晴            --         17.0  \n",
       "2      快晴            --         15.5  \n",
       "3      快晴            --         15.2  \n",
       "4      快晴            --         16.1  "
      ]
     },
     "execution_count": 3,
     "metadata": {},
     "output_type": "execute_result"
    }
   ],
   "source": [
    "train.head()"
   ]
  },
  {
   "cell_type": "markdown",
   "metadata": {},
   "source": [
    "## trainのyとtemperatureの相関関係を調べてみましょう\n",
    "- 相関関係とは、Aという事象とBという事象の間、双方向の動きに関係があることを言います\n",
    "- 例えば、気温が上がると弁当の売り上げ数もあがる関係があった場合、正の相関があると言ったりします\n",
    "- 逆に、気温が上がると弁当の売り上げが下がる関係があった場合、負の相関があると言います\n",
    "- なお、相関関係と因果関係は異なる為、注意が必要です\n",
    "- この関係の度合は相関係数と呼ばれる数値で表されます\n",
    "- 具体的にはcorr関数を使います"
   ]
  },
  {
   "cell_type": "code",
   "execution_count": 5,
   "metadata": {},
   "outputs": [
    {
     "data": {
      "text/html": [
       "<div>\n",
       "<style>\n",
       "    .dataframe thead tr:only-child th {\n",
       "        text-align: right;\n",
       "    }\n",
       "\n",
       "    .dataframe thead th {\n",
       "        text-align: left;\n",
       "    }\n",
       "\n",
       "    .dataframe tbody tr th {\n",
       "        vertical-align: top;\n",
       "    }\n",
       "</style>\n",
       "<table border=\"1\" class=\"dataframe\">\n",
       "  <thead>\n",
       "    <tr style=\"text-align: right;\">\n",
       "      <th></th>\n",
       "      <th>y</th>\n",
       "      <th>temperature</th>\n",
       "    </tr>\n",
       "  </thead>\n",
       "  <tbody>\n",
       "    <tr>\n",
       "      <th>y</th>\n",
       "      <td>1.000000</td>\n",
       "      <td>-0.655332</td>\n",
       "    </tr>\n",
       "    <tr>\n",
       "      <th>temperature</th>\n",
       "      <td>-0.655332</td>\n",
       "      <td>1.000000</td>\n",
       "    </tr>\n",
       "  </tbody>\n",
       "</table>\n",
       "</div>"
      ],
      "text/plain": [
       "                    y  temperature\n",
       "y            1.000000    -0.655332\n",
       "temperature -0.655332     1.000000"
      ]
     },
     "execution_count": 5,
     "metadata": {},
     "output_type": "execute_result"
    }
   ],
   "source": [
    "train[[\"y\",\"temperature\"]].corr()"
   ]
  },
  {
   "cell_type": "markdown",
   "metadata": {},
   "source": [
    "## 今度はyとkcalの相関関係を調べてみましょう\n",
    "- 本来、欠損値があると相関係数は測定できませんが、プログラムでは自動的に欠損値の行は削除されて計算されます"
   ]
  },
  {
   "cell_type": "code",
   "execution_count": 6,
   "metadata": {},
   "outputs": [
    {
     "data": {
      "text/html": [
       "<div>\n",
       "<style>\n",
       "    .dataframe thead tr:only-child th {\n",
       "        text-align: right;\n",
       "    }\n",
       "\n",
       "    .dataframe thead th {\n",
       "        text-align: left;\n",
       "    }\n",
       "\n",
       "    .dataframe tbody tr th {\n",
       "        vertical-align: top;\n",
       "    }\n",
       "</style>\n",
       "<table border=\"1\" class=\"dataframe\">\n",
       "  <thead>\n",
       "    <tr style=\"text-align: right;\">\n",
       "      <th></th>\n",
       "      <th>y</th>\n",
       "      <th>kcal</th>\n",
       "    </tr>\n",
       "  </thead>\n",
       "  <tbody>\n",
       "    <tr>\n",
       "      <th>y</th>\n",
       "      <td>1.000000</td>\n",
       "      <td>0.147269</td>\n",
       "    </tr>\n",
       "    <tr>\n",
       "      <th>kcal</th>\n",
       "      <td>0.147269</td>\n",
       "      <td>1.000000</td>\n",
       "    </tr>\n",
       "  </tbody>\n",
       "</table>\n",
       "</div>"
      ],
      "text/plain": [
       "             y      kcal\n",
       "y     1.000000  0.147269\n",
       "kcal  0.147269  1.000000"
      ]
     },
     "execution_count": 6,
     "metadata": {},
     "output_type": "execute_result"
    }
   ],
   "source": [
    "train[[\"y\",\"kcal\"]].corr()"
   ]
  },
  {
   "cell_type": "markdown",
   "metadata": {},
   "source": [
    "## yとtemperatureとの散布図を描いてみましょう\n",
    "- 相関係数は散布図を描いてみるとわかりやすいと思います\n",
    "- 散布図はplot.scatter関数を使います\n",
    "- オプションとして、x=\"temperature\", y=\"y\", figsize=(5,5)と書きます"
   ]
  },
  {
   "cell_type": "code",
   "execution_count": 7,
   "metadata": {},
   "outputs": [
    {
     "data": {
      "text/plain": [
       "<matplotlib.axes._subplots.AxesSubplot at 0x1b9732301d0>"
      ]
     },
     "execution_count": 7,
     "metadata": {},
     "output_type": "execute_result"
    },
    {
     "data": {
      "image/png": "[encoded data removed]",
      "text/plain": [
       "<matplotlib.figure.Figure at 0x1b97312ab70>"
      ]
     },
     "metadata": {},
     "output_type": "display_data"
    }
   ],
   "source": [
    "train[[\"y\",\"temperature\"]].plot.scatter(x=\"temperature\",y=\"y\",figsize=(5,5))"
   ]
  },
  {
   "cell_type": "markdown",
   "metadata": {},
   "source": [
    "## yとkcalとの散布図も描いてみましょう"
   ]
  },
  {
   "cell_type": "code",
   "execution_count": 8,
   "metadata": {},
   "outputs": [
    {
     "data": {
      "text/plain": [
       "<matplotlib.axes._subplots.AxesSubplot at 0x1b9730fbb00>"
      ]
     },
     "execution_count": 8,
     "metadata": {},
     "output_type": "execute_result"
    },
    {
     "data": {
      "image/png": "[encoded data removed]",
      "text/plain": [
       "<matplotlib.figure.Figure at 0x1b9734e2470>"
      ]
     },
     "metadata": {},
     "output_type": "display_data"
    }
   ],
   "source": [
    "train[[\"y\",\"kcal\"]].plot.scatter(x=\"kcal\",y=\"y\",figsize=(5,5))"
   ]
  },
  {
   "cell_type": "code",
   "execution_count": null,
   "metadata": {
    "collapsed": true
   },
   "outputs": [],
   "source": []
  }
 ],
 "metadata": {
  "kernelspec": {
   "display_name": "Python 3",
   "language": "python",
   "name": "python3"
  },
  "language_info": {
   "codemirror_mode": {
    "name": "ipython",
    "version": 3
   },
   "file_extension": ".py",
   "mimetype": "text/x-python",
   "name": "python",
   "nbconvert_exporter": "python",
   "pygments_lexer": "ipython3",
   "version": "3.6.3"
  }
 },
 "nbformat": 4,
 "nbformat_minor": 2
}
